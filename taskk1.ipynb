{
  "cells": [
    {
      "cell_type": "markdown",
      "metadata": {
        "id": "tRkpcYBgHf6d"
      },
      "source": [
        "# **INTERNSHIP TASK 1**"
      ]
    },
    {
      "cell_type": "code",
      "execution_count": null,
      "metadata": {
        "id": "pPxFK5bKHixw"
      },
      "outputs": [],
      "source": [
        "import pandas as pd\n",
        "import numpy as np\n",
        "import matplotlib.pyplot as plt\n"
      ]
    },
    {
      "cell_type": "code",
      "execution_count": null,
      "metadata": {
        "colab": {
          "base_uri": "https://localhost:8080/"
        },
        "id": "gsW3j4ZsT20J",
        "outputId": "82abec07-b27b-42b9-cec9-2908022f7259"
      },
      "outputs": [
        {
          "output_type": "stream",
          "name": "stdout",
          "text": [
            "Drive already mounted at /content/drive; to attempt to forcibly remount, call drive.mount(\"/content/drive\", force_remount=True).\n"
          ]
        }
      ],
      "source": [
        "#Loading the CSV AND EXCEL FILES#\n",
        "\n",
        "\n",
        "from google.colab import drive\n",
        "drive.mount('/content/drive')\n",
        "df_site = pd.read_excel(\"/content/drive/MyDrive/Colab Notebooks/Fyttlyf_Website_Data.xlsx\")\n",
        "df1 = pd.read_csv(\"/content/drive/MyDrive/Colab Notebooks/fico (1).csv\")\n",
        "df2 = pd.read_csv(\"/content/drive/MyDrive/Colab Notebooks/region.csv\")"
      ]
    },
    {
      "cell_type": "code",
      "execution_count": null,
      "metadata": {
        "colab": {
          "base_uri": "https://localhost:8080/"
        },
        "id": "VMhm-0JzIUlj",
        "outputId": "2bb9302e-0658-4d70-8518-257521b069cb"
      },
      "outputs": [
        {
          "output_type": "stream",
          "name": "stdout",
          "text": [
            "        acct_id FICO\n",
            "0             1  768\n",
            "1             2  850\n",
            "2             3  677\n",
            "3             4  843\n",
            "4             5  796\n",
            "...         ...  ...\n",
            "100008    99996  NaN\n",
            "100009    99997  NaN\n",
            "100010    99998  NaN\n",
            "100011    99999  SSS\n",
            "100012   100000  NaN\n",
            "\n",
            "[100013 rows x 2 columns]\n",
            "             acct_id\n",
            "count  100013.000000\n",
            "mean    49996.449842\n",
            "std     28868.457180\n",
            "min         1.000000\n",
            "25%     24999.000000\n",
            "50%     49994.000000\n",
            "75%     74997.000000\n",
            "max    100000.000000\n",
            "(100013, 2)\n"
          ]
        }
      ],
      "source": [
        "#DESCRIBING THE FICO CSV\n",
        "print(df1)\n",
        "print(df1.describe())\n",
        "print(df1.shape)"
      ]
    },
    {
      "cell_type": "markdown",
      "metadata": {
        "id": "rLxtuGa9Zesa"
      },
      "source": [
        "# **FICO CSV FILE**\n",
        "The data has some missing values which needs to be identified under the column FICO. Through the following code we point out all the rows with missing values"
      ]
    },
    {
      "cell_type": "code",
      "execution_count": null,
      "metadata": {
        "colab": {
          "base_uri": "https://localhost:8080/"
        },
        "id": "RBzRtvYicFwl",
        "outputId": "8220a9c2-dfe4-46ba-f834-871f8c13a232"
      },
      "outputs": [
        {
          "output_type": "stream",
          "name": "stdout",
          "text": [
            "        acct_id FICO\n",
            "10           11  NaN\n",
            "17           18  NaN\n",
            "40           41  NaN\n",
            "42           43  NaN\n",
            "43           44  NaN\n",
            "...         ...  ...\n",
            "100007    99995  NaN\n",
            "100008    99996  NaN\n",
            "100009    99997  NaN\n",
            "100010    99998  NaN\n",
            "100012   100000  NaN\n",
            "\n",
            "[29615 rows x 2 columns]\n",
            "The number of rows with missing data- 29615\n"
          ]
        }
      ],
      "source": [
        "missing_data =  df1[df1['FICO'].isnull()]\n",
        "print(missing_data)\n",
        "#The no of rows in missing data\n",
        "\n",
        "print(\"The number of rows with missing data-\",missing_data.shape[0])"
      ]
    },
    {
      "cell_type": "markdown",
      "metadata": {
        "id": "Uaag--Gwchh3"
      },
      "source": [
        "# CATEGORISING THE FICO CREDIT SCORE\n",
        "The FICO credit score can be categorised in following sub groups-\n",
        "\n",
        "\n",
        "*  CATEGORY-: Missing Values(for our convenience let us take it 0)\n",
        "*  CATEGORY 1: score less than 500\n",
        "*  CATEGORY 2: score between 500(including) and 600 (excluding)\n",
        "\n",
        "*   CATEGORY3:Score between 600(including) and 700(excluding)\n",
        "*   CATEGORY4:Score between 700(including) and 800(excluding)\n",
        "*   CATEG0RY5:Score between 800(including) and 900(excluding)\n",
        "\n",
        "\n",
        "According to Investopedia,FICO is a major analytics software company that provides products and services to both businesses and consumers. The company is best known for producing the most widely used consumer credit scores that financial institutions use in deciding whether to lend money or issue credit.\n",
        "\n",
        "The overall FICO score range is between 300 and 850. In general, scores in the 670 to 739 range indicate “good” credit history, and most lenders will consider this score favorable. In contrast, borrowers in the 580 to 669 range may find it difficult to obtain financing at attractive rates.\n",
        "\n",
        "\n",
        " \n",
        "\n",
        "\n",
        "\n"
      ]
    },
    {
      "cell_type": "code",
      "execution_count": null,
      "metadata": {
        "colab": {
          "base_uri": "https://localhost:8080/"
        },
        "id": "bSPFF7CKeCJk",
        "outputId": "8442e396-39ac-4233-b47c-f25c760772c6"
      },
      "outputs": [
        {
          "output_type": "stream",
          "name": "stdout",
          "text": [
            "        acct_id  FICO\n",
            "0             1   768\n",
            "1             2   850\n",
            "2             3   677\n",
            "3             4   843\n",
            "4             5   796\n",
            "...         ...   ...\n",
            "99998     99986   836\n",
            "99999     99987   850\n",
            "100001    99989   850\n",
            "100002    99990   830\n",
            "100004    99992   850\n",
            "\n",
            "[70396 rows x 2 columns]\n"
          ]
        }
      ],
      "source": [
        "#We have already displayed all the missing values rows,now we move forward to the second category\n",
        "#First we drop the rows strings and NaN to get clean_data\n",
        "\n",
        "df1.drop(df1[df1['FICO'] ==\"SSS\"].index,inplace= True)\n",
        "df1.drop(df1[df1['FICO'] ==\"AA\"].index, inplace = True)\n",
        "df1.dropna(inplace=True)\n",
        "print(df1)\n",
        "\n",
        "\n",
        "\n",
        "\n",
        "\n",
        "\n",
        "\n",
        "\n",
        "\n",
        "\n",
        "\n"
      ]
    },
    {
      "cell_type": "code",
      "source": [
        "\n",
        "#convertimg to int#\n",
        "df1['FICO'] = df1['FICO'].astype(int)\n",
        "df1.dtypes\n",
        "\n",
        "\n",
        "#for category 1#\n",
        "cat1 = df1.loc[df1['FICO']<500]\n",
        "cat1_num = cat1.shape[0]\n",
        "print(\"no of customers in range :400<=FICO<500=\",cat1_num)\n",
        "\n",
        "#for category 2#\n",
        "cat2 =  df1.loc[(df1['FICO']>=500)&(df1['FICO']<600)]\n",
        "cat2_num = cat2.shape[0]\n",
        "print(\"no of customers in range :500<=FICO<600=\",cat2_num)\n",
        "\n",
        "#for category 3#\n",
        "cat3 =  df1.loc[(df1['FICO']>=600)&(df1['FICO']<700)]\n",
        "cat3_num = cat3.shape[0]\n",
        "print(\"no of customers in range :600<=FICO<700=\",cat3_num)\n",
        "\n",
        "#for category 4#\n",
        "cat4 =  df1.loc[(df1['FICO']>=700)&(df1['FICO']<800)]\n",
        "cat4_num = cat4.shape[0]\n",
        "print(\"no of customers in range :700<=FICO<800=\",cat4_num)\n",
        "\n",
        "#for category 5#\n",
        "cat5 =  df1.loc[(df1['FICO']>=800)&(df1['FICO']<900)]\n",
        "cat5_num = cat5.shape[0]\n",
        "print(\"no of customers in range :800<=FICO<900=\",cat5_num)\n",
        "\n",
        "\n",
        "\n"
      ],
      "metadata": {
        "colab": {
          "base_uri": "https://localhost:8080/"
        },
        "id": "meS5nX9NMcV7",
        "outputId": "cc83ab09-6576-47e0-a7c6-b0b8c9efd310"
      },
      "execution_count": null,
      "outputs": [
        {
          "output_type": "stream",
          "name": "stdout",
          "text": [
            "no of customers in range :400<=FICO<500= 64\n",
            "no of customers in range :500<=FICO<600= 977\n",
            "no of customers in range :600<=FICO<700= 6780\n",
            "no of customers in range :700<=FICO<800= 25642\n",
            "no of customers in range :800<=FICO<900= 36933\n"
          ]
        }
      ]
    },
    {
      "cell_type": "markdown",
      "source": [
        "# HISTOGRAM"
      ],
      "metadata": {
        "id": "mW7-019T0tCZ"
      }
    },
    {
      "cell_type": "code",
      "source": [
        "\n",
        "a = df1['FICO']\n",
        "plt.hist(a, bins = [400,500,600,700,800,900])\n",
        "plt.title(\"histogram of Distribution\")\n",
        "plt.xticks([400,500,600,700,800,900])\n",
        "plt.xlabel('FICO Range')\n",
        "plt.ylabel('')\n",
        "plt.show()\n"
      ],
      "metadata": {
        "colab": {
          "base_uri": "https://localhost:8080/",
          "height": 295
        },
        "id": "2l8aLwlSrKLN",
        "outputId": "3912dc07-d5cb-4825-a31a-1b3e58ef79ea"
      },
      "execution_count": null,
      "outputs": [
        {
          "output_type": "display_data",
          "data": {
            "text/plain": [
              "<Figure size 432x288 with 1 Axes>"
            ],
            "image/png": "[encoded data removed]"
          },
          "metadata": {
            "needs_background": "light"
          }
        }
      ]
    },
    {
      "cell_type": "markdown",
      "source": [
        "# PIE CHART"
      ],
      "metadata": {
        "id": "bP2fKptN5JKs"
      }
    },
    {
      "cell_type": "code",
      "source": [
        "categ= ['Category_1', 'category_2','category_3', 'category_4', 'category_5']\n",
        "data = [cat1_num, cat2_num, cat3_num, cat4_num, cat5_num]\n",
        "\n",
        "explode = (0.1,0,0,0,0.1)\n",
        "fig1,ax1 = plt.subplots()\n",
        "ax1.pie(data, explode=explode, labels= categ, autopct='%1.1f%%',shadow=True, startangle=90)\n",
        "plt.show()\n",
        "\n",
        "\n",
        " "
      ],
      "metadata": {
        "colab": {
          "base_uri": "https://localhost:8080/",
          "height": 249
        },
        "id": "efkQlrgr5Ns8",
        "outputId": "110d739b-7628-4c38-cb51-e0c3ae148d44"
      },
      "execution_count": null,
      "outputs": [
        {
          "output_type": "display_data",
          "data": {
            "text/plain": [
              "<Figure size 432x288 with 1 Axes>"
            ],
            "image/png": "[encoded data removed]"
          },
          "metadata": {}
        }
      ]
    },
    {
      "cell_type": "markdown",
      "source": [
        "**REGION** **FILE**"
      ],
      "metadata": {
        "id": "8_7Ufewh8OFP"
      }
    },
    {
      "cell_type": "code",
      "source": [
        "#TEMP TABLE#\n",
        "df_inner = pd.merge(df1, df2, on='acct_id', how='inner')\n",
        "print(df_inner)\n",
        "\n",
        "\n",
        "\n",
        "#creating a dataframe of Region and avergae FICO Score#\n",
        "regions =  df2['region'].unique()\n",
        "\n",
        "dict1= {}\n",
        "\n",
        "for i in regions:\n",
        "  region1 = df_inner[df_inner.region.values==i]\n",
        "  total_1 = region1['FICO'].mean()\n",
        "  dict1[i]= total_1\n",
        "\n",
        "d = {'Region': list(dict1.keys()),'Avg_FICO_Score': list(dict1.values())}\n",
        "dataframe = pd.DataFrame(data=d)\n",
        "print(dataframe)\n",
        "\n",
        "#dropping the highest and lowest FICO ABG SCORE#\n",
        "dataframe.drop(dataframe[dataframe.Avg_FICO_Score == dataframe.Avg_FICO_Score.min()].index,inplace= True)\n",
        "dataframe.drop(dataframe[dataframe.Avg_FICO_Score == dataframe.Avg_FICO_Score.max()].index,inplace=  True)\n",
        "\n",
        "\n"
      ],
      "metadata": {
        "colab": {
          "base_uri": "https://localhost:8080/"
        },
        "id": "IQvqHUIs8THZ",
        "outputId": "1322782d-ae08-44ac-ac36-72f6c31adcfc"
      },
      "execution_count": null,
      "outputs": [
        {
          "output_type": "stream",
          "name": "stdout",
          "text": [
            "       acct_id  FICO        region\n",
            "0            1   768      New York\n",
            "1            2   850        Dallas\n",
            "2            3   677   Los Angeles\n",
            "3            4   843       Chicago\n",
            "4            5   796  Philadelphia\n",
            "...        ...   ...           ...\n",
            "70564    99986   836       Phoenix\n",
            "70565    99987   850   Los Angeles\n",
            "70566    99989   850   Los Angeles\n",
            "70567    99990   830       Chicago\n",
            "70568    99992   850   Los Angeles\n",
            "\n",
            "[70569 rows x 3 columns]\n",
            "         Region  Avg_FICO_Score\n",
            "0      New York      785.081154\n",
            "1        Dallas      782.102021\n",
            "2   Los Angeles      785.694113\n",
            "3       Chicago      785.638187\n",
            "4  Philadelphia      785.783084\n",
            "5   San Antonio      784.508277\n",
            "6       Houston      786.007501\n",
            "7     Charlotte      785.154280\n",
            "8       Phoenix      788.156762\n",
            "9     San Diego      784.081618\n"
          ]
        }
      ]
    },
    {
      "cell_type": "code",
      "source": [
        "print(\"Regions with second highest and lowest AVG FICO SCORE\")\n",
        "print(dataframe[dataframe.Avg_FICO_Score == dataframe.Avg_FICO_Score.max()])\n",
        "print(dataframe[dataframe.Avg_FICO_Score == dataframe.Avg_FICO_Score.min()])\n",
        "\n",
        "\n"
      ],
      "metadata": {
        "colab": {
          "base_uri": "https://localhost:8080/"
        },
        "id": "4RJSVl1dGoS8",
        "outputId": "8afb6f4d-4e57-4437-a56e-f686a7fd3d61"
      },
      "execution_count": null,
      "outputs": [
        {
          "output_type": "stream",
          "name": "stdout",
          "text": [
            "Regions with second highest and lowest AVG FICO SCORE\n",
            "    Region  Avg_FICO_Score\n",
            "6  Houston      786.007501\n",
            "      Region  Avg_FICO_Score\n",
            "9  San Diego      784.081618\n"
          ]
        }
      ]
    },
    {
      "cell_type": "markdown",
      "source": [
        "# TASK 3"
      ],
      "metadata": {
        "id": "qaOB_zumLg7P"
      }
    },
    {
      "cell_type": "code",
      "source": [
        "#PAYLOAD KEY-VALUE COLUMNS#\n",
        "\n",
        "\n",
        "event= df_site['evnt_dt']\n",
        "visitor = df_site['visitor_id']\n",
        "\n",
        "df_key, df_id = df_site['payload'].str.split('&', 1).str\n",
        "\n",
        "d = {'event_dt': list(event),'visitor_ID': list(visitor),'Payload_Key': df_key,'Payload_Val':df_id}\n",
        "print(pd.DataFrame(data=d))"
      ],
      "metadata": {
        "colab": {
          "base_uri": "https://localhost:8080/"
        },
        "id": "XN8I9rK9Df99",
        "outputId": "6468e92e-0c5b-466a-8197-41fc0fe351a4"
      },
      "execution_count": null,
      "outputs": [
        {
          "output_type": "stream",
          "name": "stderr",
          "text": [
            "/usr/local/lib/python3.7/dist-packages/ipykernel_launcher.py:7: FutureWarning: Columnar iteration over characters will be deprecated in future releases.\n",
            "  import sys\n"
          ]
        },
        {
          "output_type": "stream",
          "name": "stdout",
          "text": [
            "         event_dt                                visitor_ID  \\\n",
            "0      2021-02-02      gc1f62e501790gcd045c35gccgc4fcfd9e0d   \n",
            "1      2021-02-02   gc5gcd19131790gc1d2d7gcgc4582fcgc57gc98   \n",
            "2      2021-02-02      3004cgc811770gcd0059ff44fcffdgc0gc27   \n",
            "3      2021-02-02       gc463dcf41790gcd045gc51270efcd938d7   \n",
            "4      2021-02-02    gc623401e1790gc2758gcdgc164gcfcgc26737   \n",
            "...           ...                                       ...   \n",
            "101324 2021-02-02       92gcc37191790gcd047198e08dfd6gc1574   \n",
            "101325 2021-02-02  gc2gc4dgcgcgc1790gcd005gc2gcc519fc0046c3   \n",
            "101326 2021-02-02    gc22egc80c1790gcd0058d8gc32gcfc037gc39   \n",
            "101327 2021-02-02       gc6747ccc1790gc1d7e0370d4efcgcf3592   \n",
            "101328 2021-02-02        gc395d3fc1770gc12d68e6802effffffff   \n",
            "\n",
            "                                              Payload_Key  \\\n",
            "0           isp_mozioxile_ckijrrier=Deutsche Telekom kijG   \n",
            "1                isp_mozioxile_ckijrrier=O2 Deutschlkijnd   \n",
            "2              isp_mozioxile_ckijrrier=PlusServer GmzioxH   \n",
            "3       isp_mozioxile_ckijrrier=Vodkijfone Kkijzioxel ...   \n",
            "4                  isp_mozioxile_ckijrrier=kijmkijzon.com   \n",
            "...                                                   ...   \n",
            "101324      isp_mozioxile_ckijrrier=Deutsche Telekom kijG   \n",
            "101325           isp_mozioxile_ckijrrier=O2 Deutschlkijnd   \n",
            "101326            isp_mozioxile_ckijrrier=EWE-Tel GmzioxH   \n",
            "101327               isp_mozioxile_ckijrrier=Unitymedikij   \n",
            "101328                     isp_mozioxile_ckijrrier=Telmex   \n",
            "\n",
            "                                              Payload_Val  \n",
            "0       session_id_cookie_id=ziox1f62e501790kijd045c35...  \n",
            "1       session_id_cookie_id=ziox5zioxd19131790kij1d2d...  \n",
            "2       session_id_cookie_id=3004cziox811770kijd0059ff...  \n",
            "3       session_id_cookie_id=ziox463dcf41790kijd045kij...  \n",
            "4       session_id_cookie_id=ziox623401e1790kij2758zio...  \n",
            "...                                                   ...  \n",
            "101324  session_id_cookie_id=92zioxc37191790kijd047198...  \n",
            "101325  session_id_cookie_id=ziox2kij4dzioxkijziox1790...  \n",
            "101326  session_id_cookie_id=ziox22ekij80c1790kijd0058...  \n",
            "101327  session_id_cookie_id=ziox6747ccc1790kij1d7e037...  \n",
            "101328  session_id_cookie_id=kij395d3fc1770kij12d68e68...  \n",
            "\n",
            "[101329 rows x 4 columns]\n"
          ]
        }
      ]
    },
    {
      "cell_type": "code",
      "source": [
        "# GEO-ENTRY LEVEL CTR#\n",
        "\n",
        "countries = df_site['geo_cntry'].unique()\n",
        "\n",
        "df_click = df_site[df_site['Event']== \"Click\"]\n",
        "df_imp = df_site[df_site['Event']== \"Impression\"]\n",
        "\n",
        "gf1= df_click.groupby('geo_cntry')\n",
        "gf2 = df_imp.groupby('geo_cntry')\n",
        "\n",
        "CTR_values = []\n",
        "for i in countries:\n",
        " gf1_i = gf1.get_group(i)\n",
        " gf2_i = gf2.get_group(i)\n",
        " click_session = len(gf1_i['sessn_id'].unique())\n",
        " imp_session   = len(gf2_i['sessn_id'].unique())\n",
        " CTR = (click_session/imp_session)*100\n",
        " CTR_values.append(CTR)\n",
        "\n",
        "\n",
        "d = {'Country': list(countries),'CTR %': list(CTR_values)}\n",
        "print(pd.DataFrame(data=d))"
      ],
      "metadata": {
        "colab": {
          "base_uri": "https://localhost:8080/"
        },
        "id": "J8nb2qa6Thj6",
        "outputId": "d01b53c0-af9d-43fa-eb7d-b73eb87889f5"
      },
      "execution_count": null,
      "outputs": [
        {
          "output_type": "stream",
          "name": "stdout",
          "text": [
            "         Country      CTR %\n",
            "0         France  36.569822\n",
            "1  United States  35.918877\n"
          ]
        }
      ]
    },
    {
      "cell_type": "code",
      "source": [
        "# Click sessions for different Browsers#\n",
        "\n",
        "browsers = df_site['browser_type'].unique()\n",
        "\n",
        "for i in browsers:\n",
        "  print(\"Count of clicks for browser ->\",i,df_site[(df_site['browser_type']==i)&(df_site['Event']==\"Click\")]['Event'].count())\n",
        "\n"
      ],
      "metadata": {
        "colab": {
          "base_uri": "https://localhost:8080/"
        },
        "id": "bJrO4LsIY5CS",
        "outputId": "34d78c6c-24d1-475d-8776-37bfdb6d3358"
      },
      "execution_count": null,
      "outputs": [
        {
          "output_type": "stream",
          "name": "stdout",
          "text": [
            "Count of clicks for browser -> Safari 7322\n",
            "Count of clicks for browser -> Firefox 2805\n",
            "Count of clicks for browser -> Chrome Mobile 10510\n",
            "Count of clicks for browser -> Chrome 8784\n",
            "Count of clicks for browser -> Edge 2473\n",
            "Count of clicks for browser -> Samsung Browser 1410\n",
            "Count of clicks for browser -> # 14\n",
            "Count of clicks for browser -> Internet Explorer 165\n",
            "Count of clicks for browser -> Opera Touch 10\n",
            "Count of clicks for browser -> Android Browser 16\n",
            "Count of clicks for browser -> Iron 2\n",
            "Count of clicks for browser -> MIUI Browser 73\n",
            "Count of clicks for browser -> UC Browser 9\n",
            "Count of clicks for browser -> Opera Mobile 111\n",
            "Count of clicks for browser -> Opera 24\n",
            "Count of clicks for browser -> nan 0\n",
            "Count of clicks for browser -> HeyTap Browser 3\n",
            "Count of clicks for browser -> Puffin 4\n",
            "Count of clicks for browser -> Chromium 0\n",
            "Count of clicks for browser -> BlackBerry Browser 3\n",
            "Count of clicks for browser -> Opera Mini 2\n",
            "Count of clicks for browser -> Amazon Silk 27\n",
            "Count of clicks for browser -> Maxthon 1\n",
            "Count of clicks for browser -> Pale Moon 1\n",
            "Count of clicks for browser -> Internet Explorer Mobile 0\n",
            "Count of clicks for browser -> Vivaldi 1\n",
            "Count of clicks for browser -> Yandex.Browser 1\n",
            "Count of clicks for browser -> Nokia S60 Browser 1\n",
            "Count of clicks for browser -> UP.Browser 0\n",
            "Count of clicks for browser -> Firefox Focus 0\n",
            "Count of clicks for browser -> MQQ Browser 0\n"
          ]
        }
      ]
    },
    {
      "cell_type": "code",
      "source": [
        ""
      ],
      "metadata": {
        "id": "9CYuPprjipTZ"
      },
      "execution_count": null,
      "outputs": []
    }
  ],
  "metadata": {
    "colab": {
      "collapsed_sections": [],
      "name": "taskk1.ipynb",
      "provenance": [],
      "toc_visible": true
    },
    "kernelspec": {
      "display_name": "Python 3",
      "name": "python3"
    },
    "language_info": {
      "name": "python"
    }
  },
  "nbformat": 4,
  "nbformat_minor": 0
}